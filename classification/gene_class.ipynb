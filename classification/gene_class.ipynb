{
 "cells": [
  {
   "cell_type": "code",
   "execution_count": null,
   "metadata": {},
   "outputs": [],
   "source": [
    "import pandas as pd\n",
    "from sklearn.manifold import TSNE\n",
    "from sklearn.decomposition import PCA\n",
    "import seaborn as sns\n",
    "import matplotlib.pyplot as plt"
   ]
  },
  {
   "cell_type": "code",
   "execution_count": null,
   "metadata": {},
   "outputs": [],
   "source": [
    "features_df = pd.read_csv(\"../../data/gene_df_128.csv\")\n",
    "features_df.head()\n",
    "label_df = pd.read_csv(\"../../data/final_labels.csv\")\n",
    "label_df.index = label_df['File ID']\n",
    "labels = label_df.loc[features_df['file_name']]['LABEL']\n",
    "labels_more = label_df.loc[features_df['file_name']]['final_label']\n",
    "projects = label_df.loc[features_df['file_name']]['Project ID']"
   ]
  },
  {
   "cell_type": "markdown",
   "metadata": {},
   "source": [
    "Using t-SNE\n"
   ]
  },
  {
   "cell_type": "code",
   "execution_count": null,
   "metadata": {},
   "outputs": [],
   "source": [
    "X = features_df.iloc[:,1:]\n",
    "Y = labels\n",
    "tsne = TSNE(n_components=2, verbose=1, random_state=14)\n",
    "z = tsne.fit_transform(X)\n",
    "df = pd.DataFrame()\n",
    "df[\"y\"] = Y\n",
    "df[\"y_more\"] = labels_more\n",
    "df[\"projects\"] = projects\n",
    "df[\"comp-1\"] = z[:,0]\n",
    "df[\"comp-2\"] = z[:,1]\n",
    "\n",
    "\n",
    "pt1 = sns.scatterplot(x=\"comp-1\", y=\"comp-2\", hue=df.y.tolist(),\n",
    "                palette=sns.color_palette(\"hls\", 2),\n",
    "                data=df)\n",
    "pt1.set(title=\"t-SNE: 128 Latent Gene\")\n",
    "pt1.get_figure().savefig(\"../../Figures/tsne_gene_1.png\")"
   ]
  },
  {
   "cell_type": "markdown",
   "metadata": {},
   "source": [
    "Using PCA\n"
   ]
  },
  {
   "cell_type": "code",
   "execution_count": null,
   "metadata": {},
   "outputs": [],
   "source": [
    "X = features_df.iloc[:,1:]\n",
    "Y = labels\n",
    "pca = PCA(n_components=2)\n",
    "z = pca.fit_transform(X)\n",
    "df = pd.DataFrame()\n",
    "df[\"y\"] = Y\n",
    "df[\"comp-1\"] = z[:,0]\n",
    "df[\"comp-2\"] = z[:,1]\n",
    "\n",
    "pt1 = sns.scatterplot(x=\"comp-1\", y=\"comp-2\", hue=df.y.tolist(),\n",
    "                palette=sns.color_palette(\"hls\", 2),\n",
    "                data=df)\n",
    "pt1.set(title=\"PCA: 128 Latent Gene\")\n",
    "pt1.get_figure().savefig(\"../../Figures/pca_gene.png\")"
   ]
  },
  {
   "cell_type": "code",
   "execution_count": null,
   "metadata": {},
   "outputs": [],
   "source": [
    "pca.explained_variance_ratio_.cumsum()\n"
   ]
  },
  {
   "cell_type": "markdown",
   "metadata": {},
   "source": [
    "10 fold cross validation\n"
   ]
  },
  {
   "cell_type": "code",
   "execution_count": null,
   "metadata": {},
   "outputs": [],
   "source": [
    "from sklearn.ensemble import RandomForestClassifier\n",
    "from sklearn.linear_model import LogisticRegression\n",
    "from sklearn.svm import SVC\n",
    "from sklearn.ensemble import VotingClassifier\n",
    "from mlmodels import cross_validate_custom\n",
    "VC = VotingClassifier(estimators=[('SVM', SVC(kernel = 'rbf', probability=True)),\n",
    " ('RF', RandomForestClassifier(n_estimators=100))],voting='soft')\n",
    "\n",
    "estimators = [SVC(kernel='rbf',probability=True), RandomForestClassifier(n_estimators=100),VC, LogisticRegression()]\n",
    "result = []\n",
    "for estimator in estimators:\n",
    "    result.append(cross_validate_custom(X,Y,estimator))\n",
    "result = pd.DataFrame(result,index = ['SVM','RF','Voting','LR'])\n",
    "result"
   ]
  }
 ],
 "metadata": {
  "language_info": {
   "name": "python"
  },
  "orig_nbformat": 4
 },
 "nbformat": 4,
 "nbformat_minor": 2
}
