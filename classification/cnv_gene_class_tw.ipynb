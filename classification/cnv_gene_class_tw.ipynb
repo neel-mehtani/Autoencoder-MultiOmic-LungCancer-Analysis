{
 "cells": [
  {
   "cell_type": "code",
   "execution_count": null,
   "metadata": {},
   "outputs": [],
   "source": [
    "import pandas as pd\n",
    "from sklearn.manifold import TSNE\n",
    "from sklearn.decomposition import PCA\n",
    "import seaborn as sns\n",
    "import matplotlib.pyplot as plt"
   ]
  },
  {
   "cell_type": "code",
   "execution_count": null,
   "metadata": {},
   "outputs": [],
   "source": [
    "features_cnv_df = pd.read_csv(\"../../data/cnv_df_128_tw.csv\")\n",
    "features_gene_df = pd.read_csv(\"../../data/gene_df_128_tw.csv\")\n",
    "label_df = pd.read_csv(\"../../data/final_labels.csv\")\n",
    "\n",
    "features_cnv_df = features_cnv_df.merge(label_df[['Case_ID_Final','File ID']], left_on='file_name',right_on = 'File ID', how = 'left')\n",
    "features_cnv_df.drop(columns=['File ID','file_name'],inplace = True)\n",
    "\n",
    "features_gene_df = features_gene_df.merge(label_df[['Case_ID_Final','File ID']], left_on='file_name',right_on = 'File ID', how = 'left')\n",
    "features_gene_df.drop(columns=['File ID','file_name'],inplace = True)\n"
   ]
  },
  {
   "cell_type": "code",
   "execution_count": null,
   "metadata": {},
   "outputs": [],
   "source": [
    "features_gene_df.head()\n"
   ]
  },
  {
   "cell_type": "code",
   "execution_count": null,
   "metadata": {},
   "outputs": [],
   "source": [
    "features_cnv_df.head()"
   ]
  },
  {
   "cell_type": "code",
   "execution_count": null,
   "metadata": {},
   "outputs": [],
   "source": [
    "features_df = pd.merge(left = features_cnv_df,right=features_gene_df, on='Case_ID_Final')\n",
    "cases = features_df.pop('Case_ID_Final')\n",
    "features_df.insert(0,'case_id',cases)\n",
    "features_df"
   ]
  },
  {
   "cell_type": "code",
   "execution_count": null,
   "metadata": {},
   "outputs": [],
   "source": [
    "label_df_2 = label_df.groupby(['Case_ID_Final','LABEL','final_label','Project ID']).agg({'File ID':'nunique'}).reset_index()\n",
    "label_df_2.index = label_df_2['Case_ID_Final']\n",
    "label_df_2"
   ]
  },
  {
   "cell_type": "code",
   "execution_count": null,
   "metadata": {},
   "outputs": [],
   "source": [
    "labels = label_df_2.loc[features_df['case_id']]['LABEL']\n",
    "labels_more = label_df_2.loc[features_df['case_id']]['final_label']\n",
    "projects = label_df_2.loc[features_df['case_id']]['Project ID']"
   ]
  },
  {
   "cell_type": "markdown",
   "metadata": {},
   "source": [
    "Using t-SNE"
   ]
  },
  {
   "cell_type": "code",
   "execution_count": null,
   "metadata": {},
   "outputs": [],
   "source": [
    "X = features_df.iloc[:,1:]\n",
    "Y = labels\n",
    "tsne = TSNE(n_components=2, verbose=1, random_state=13)\n",
    "z = tsne.fit_transform(X)\n",
    "df = pd.DataFrame()\n",
    "df[\"y\"] = Y\n",
    "df[\"y_more\"] = labels_more\n",
    "df[\"projects\"] = projects\n",
    "df[\"comp-1\"] = z[:,0]\n",
    "df[\"comp-2\"] = z[:,1]\n",
    "\n",
    "fig = plt.gcf()\n",
    "fig.set_size_inches(12, 8)\n",
    "\n",
    "sns.scatterplot(x=\"comp-1\", y=\"comp-2\", hue=df.y.tolist(),\n",
    "                palette=sns.color_palette(\"hls\", 2),\n",
    "                data=df).set(title=\"Iris data T-SNE projection\") "
   ]
  },
  {
   "cell_type": "markdown",
   "metadata": {},
   "source": [
    "Using PCA\n"
   ]
  },
  {
   "cell_type": "code",
   "execution_count": null,
   "metadata": {},
   "outputs": [],
   "source": [
    "X = features_df.iloc[:,1:]\n",
    "Y = labels\n",
    "pca = PCA(n_components=2)\n",
    "z = pca.fit_transform(X)\n",
    "df = pd.DataFrame()\n",
    "df[\"y\"] = Y\n",
    "df[\"comp-1\"] = z[:,0]\n",
    "df[\"comp-2\"] = z[:,1]\n",
    "\n",
    "sns.scatterplot(x=\"comp-1\", y=\"comp-2\", hue=df.y.tolist(),\n",
    "                palette=sns.color_palette(\"hls\", 2),\n",
    "                data=df).set(title=\"Iris data PCA projection\") "
   ]
  },
  {
   "cell_type": "markdown",
   "metadata": {},
   "source": [
    "10 fold cross validation"
   ]
  },
  {
   "cell_type": "code",
   "execution_count": null,
   "metadata": {},
   "outputs": [],
   "source": [
    "from sklearn.ensemble import RandomForestClassifier\n",
    "from sklearn.svm import SVC\n",
    "from sklearn.ensemble import VotingClassifier\n",
    "from mlmodels import cross_validate_custom\n",
    "VC = VotingClassifier(estimators=[('SVM', SVC(kernel = 'rbf', probability=True)),\n",
    " ('RF', RandomForestClassifier(n_estimators=100))],voting='soft')\n",
    "estimators = [SVC(kernel='rbf',probability=True), RandomForestClassifier(n_estimators=100),VC]\n",
    "result = []\n",
    "for estimator in estimators:\n",
    "    result.append(cross_validate_custom(X,Y,estimator))\n",
    "result = pd.DataFrame(result,index = ['SVM','RF','Voting'])\n",
    "result"
   ]
  }
 ],
 "metadata": {
  "language_info": {
   "name": "python"
  },
  "orig_nbformat": 4
 },
 "nbformat": 4,
 "nbformat_minor": 2
}
