{
 "cells": [
  {
   "cell_type": "code",
   "execution_count": null,
   "metadata": {},
   "outputs": [],
   "source": [
    "import pandas as pd\n",
    "import numpy as np\n",
    "import glob\n",
    "import time\n",
    "import datetime"
   ]
  },
  {
   "cell_type": "markdown",
   "metadata": {},
   "source": [
    "READ CNV DATA"
   ]
  },
  {
   "cell_type": "code",
   "execution_count": null,
   "metadata": {},
   "outputs": [],
   "source": [
    "#Getting Filelist\n",
    "filelist_cnv = glob.glob(\"../../outputs/*/*copy*.tsv\") #Getting path to all files, using the glob module\n",
    "filelist_cnv = [(x,x.split('/')[3]) for x in filelist_cnv] #creates a tuple (x,y) x = path to file, y = name of file for accession\n",
    "len(filelist_cnv)"
   ]
  },
  {
   "cell_type": "code",
   "execution_count": null,
   "metadata": {},
   "outputs": [],
   "source": [
    "def read_cnv_df(filepath,filename):\n",
    "    '''\n",
    "    Function that reads a cnv file and the copy number of the gene with the sample name\n",
    "    '''\n",
    "    df1 = pd.read_csv(filepath,header=0, sep= '\\t',index_col=1)\n",
    "    df1 = df1[['copy_number']]\n",
    "    df1 = df1.T\n",
    "    df1.index = [filename]\n",
    "    df1 = df1.reset_index()\n",
    "    df1.rename(columns={'index':'file_name'}, inplace=True) \n",
    "    return df1"
   ]
  },
  {
   "cell_type": "code",
   "execution_count": null,
   "metadata": {},
   "outputs": [],
   "source": [
    "df_list = []\n",
    "\n",
    "for x in filelist_cnv:\n",
    "    tmp_df = read_cnv_df(x[0],x[1])\n",
    "    df_list.append(tmp_df)"
   ]
  },
  {
   "cell_type": "code",
   "execution_count": null,
   "metadata": {},
   "outputs": [],
   "source": [
    "master_cnv_df = pd.concat(df_list)\n",
    "master_cnv_df.to_csv(\"../../data/master_cnv_df_allsamples.csv\", index=False)"
   ]
  },
  {
   "cell_type": "markdown",
   "metadata": {},
   "source": [
    "Reading Gene Data\n"
   ]
  },
  {
   "cell_type": "code",
   "execution_count": null,
   "metadata": {},
   "outputs": [],
   "source": [
    "filelist_gene = glob.glob(\"../../outputs/*/*rna*.tsv\") #Getting path to all files, using the glob module\n",
    "filelist_gene = [(x,x.split('/')[3]) for x in filelist_gene] #creates a tuple (x,y) x = path to file, y = name of file for accession\n",
    "len(filelist_gene)"
   ]
  },
  {
   "cell_type": "code",
   "execution_count": null,
   "metadata": {},
   "outputs": [],
   "source": [
    "\n",
    "def read_gene_df(filepath,filename):\n",
    "    '''\n",
    "    Function that reads a gene file and of the gene with the sample name\n",
    "    '''\n",
    "    with open(filepath) as f:\n",
    "        f.readline()\n",
    "        cols = f.readline().split()\n",
    "\n",
    "    df1 = pd.read_csv(filepath,header=None, sep= '\\t',skiprows=6)\n",
    "    df1.columns = cols\n",
    "    df1.index = df1['gene_name']\n",
    "    df1 = df1[['tpm_unstranded']]\n",
    "    df1 = df1.T\n",
    "    df1.index = [filename]\n",
    "    df1 = df1.reset_index()\n",
    "    df1.rename(columns={'index':'file_name'}, inplace=True)\n",
    "    df1\n",
    "    return df1"
   ]
  },
  {
   "cell_type": "code",
   "execution_count": null,
   "metadata": {},
   "outputs": [],
   "source": [
    "df_list = []\n",
    "\n",
    "for x in filelist_gene:\n",
    "    tmp_df = read_gene_df(x[0],x[1])\n",
    "    df_list.append(tmp_df)"
   ]
  },
  {
   "cell_type": "code",
   "execution_count": null,
   "metadata": {},
   "outputs": [],
   "source": [
    "master_gene_df = pd.concat(df_list)\n",
    "master_gene_df.to_csv(\"../../data/master_gene_df_allsamples.csv\", index=False)\n",
    "master_gene_df.head()"
   ]
  },
  {
   "cell_type": "markdown",
   "metadata": {},
   "source": [
    "Reading Clinical and Sample Data Now\n"
   ]
  },
  {
   "cell_type": "code",
   "execution_count": null,
   "metadata": {},
   "outputs": [],
   "source": [
    "sample_data = pd.read_csv(\"../../gdc_sample_sheet.2022-11-25.tsv\", delimiter='\\t') #Reading Sample Data\n",
    "sample_data['filename_short'] = sample_data['File Name'].apply(lambda x: x.split('.')[0]) #Stripping File name (Removing FPKM.txt.gz)\n",
    "sample_data = sample_data[~sample_data['Sample Type'].isin(['Solid Tissue Normal','Solid Tissue Normal, Solid Tissue Normal','Solid Tissue Normal, Solid Tissue Normal, Solid Tissue Normal'])].reset_index(drop = True)\n",
    "sample_data.head()"
   ]
  },
  {
   "cell_type": "code",
   "execution_count": null,
   "metadata": {},
   "outputs": [],
   "source": [
    "#Removing Multiple Case IDs\n",
    "sample_data['Case_ID_Final'] = sample_data.apply(lambda x: x['Case ID'].split(',')[0], axis = 1)\n",
    "sample_data.head()"
   ]
  },
  {
   "cell_type": "markdown",
   "metadata": {},
   "source": [
    "Getting in created time of sample\n"
   ]
  },
  {
   "cell_type": "markdown",
   "metadata": {},
   "source": [
    "time_df = pd.read_json(\"../../metadata.cart.2022-11-25.json\")\n",
    "time_df['created_date'] = time_df.apply(lambda x: x['analysis']['created_datetime'].split('T')[0], axis = 1)\n",
    "time_df = time_df[['file_name','created_date']]\n",
    "time_df.columns = ['File Name', 'created_date']\n",
    "time_df.head()"
   ]
  },
  {
   "cell_type": "markdown",
   "metadata": {},
   "source": [
    "Adding timestamp to sample data\n"
   ]
  },
  {
   "cell_type": "code",
   "execution_count": null,
   "metadata": {},
   "outputs": [],
   "source": [
    "sample_data = pd.merge(left=sample_data, right=time_df, how='inner', on='File Name')\n",
    "sample_data.head()"
   ]
  },
  {
   "cell_type": "markdown",
   "metadata": {},
   "source": [
    "Adding Labels to Data"
   ]
  },
  {
   "cell_type": "code",
   "execution_count": null,
   "metadata": {},
   "outputs": [],
   "source": [
    "clinical_data = pd.read_csv(\"../../clinical.cases_selection.2022-10-25/clinical.tsv\", delimiter='\\t')\n",
    "clinical_data = clinical_data[['case_submitter_id','primary_diagnosis']]\n",
    "clinical_data\n",
    "\n",
    "u = clinical_data.groupby(\"case_submitter_id\").agg(list).reset_index() #Grouping all samples and their diagnosis to a list\n",
    "u['len'] = u['primary_diagnosis'].apply(lambda x: len(x)) #Getting length of each list to check how many times samples have their clinical data\n",
    "u['all_equal'] = u['primary_diagnosis'].apply(lambda x: len(set(x))) #Checking if every time all the entries added in primary tumor are the same\n",
    "u['final_label'] = u['primary_diagnosis'].apply(lambda x: x[0]) #creating the final label for the dataset\n",
    "\n",
    "sample_data = sample_data.merge(u[['case_submitter_id','final_label']], how='left', left_on='Case_ID_Final', right_on='case_submitter_id')\n",
    "sample_data.head()"
   ]
  },
  {
   "cell_type": "markdown",
   "metadata": {},
   "source": [
    "Selecting most recent gene and cnv file for a case ID\n"
   ]
  },
  {
   "cell_type": "code",
   "execution_count": null,
   "metadata": {},
   "outputs": [],
   "source": [
    "sample_data_latest = sample_data.sort_values(by=['Case_ID_Final','Data Category', 'created_date'])\n",
    "sample_data_latest = sample_data_latest.drop_duplicates(subset=['Case_ID_Final','Data Category'], keep='last').reset_index(drop = True)\n",
    "sample_data_latest"
   ]
  },
  {
   "cell_type": "markdown",
   "metadata": {},
   "source": [
    "Keeping only those patients that have both CNV and Gene Expression data\n"
   ]
  },
  {
   "cell_type": "code",
   "execution_count": null,
   "metadata": {},
   "outputs": [],
   "source": [
    "test = sample_data_latest.groupby('Case_ID_Final').agg({\"File Name\":'count'})\n",
    "removed_list = set(test[test['File Name']<2].reset_index()['Case_ID_Final'])\n",
    "\n",
    "sample_data_latest = sample_data_latest[~sample_data_latest['Case_ID_Final'].isin(removed_list)].reset_index(drop = True)\n",
    "sample_data_latest"
   ]
  },
  {
   "cell_type": "markdown",
   "metadata": {},
   "source": [
    "Bucketing into ALC and SCLC and removing Solid Tumours which can be mixed\n"
   ]
  },
  {
   "cell_type": "code",
   "execution_count": null,
   "metadata": {},
   "outputs": [],
   "source": [
    "sample_data_latest = sample_data_latest[sample_data_latest['final_label']!='Solid carcinoma, NOS'].reset_index(drop = True)\n",
    "def mapping(x):\n",
    "    ALC = ['Adenocarcinoma with mixed subtypes','Adenocarcinoma, NOS','Bronchio-alveolar carcinoma, mucinous','Bronchiolo-alveolar adenocarcinoma, NOS',\n",
    "        'Bronchiolo-alveolar carcinoma, non-mucinous','Clear cell adenocarcinoma, NOS','Micropapillary carcinoma, NOS','Papillary adenocarcinoma, NOS']\n",
    "    SCLC = ['Basaloid squamous cell carcinoma','Papillary squamous cell carcinoma','Squamous cell carcinoma, NOS','Squamous cell carcinoma, keratinizing, NOS',\n",
    "        'Squamous cell carcinoma, large cell, nonkeratinizing, NOS','Squamous cell carcinoma, small cell, nonkeratinizing']\n",
    "    \n",
    "    if x in ALC:\n",
    "        return 'ALC'\n",
    "    else:\n",
    "        return 'SCLC'\n",
    "sample_data_latest['LABEL'] = sample_data_latest.apply(lambda x: mapping(x['final_label']), axis = 1)\n",
    "sample_data_latest.head()"
   ]
  },
  {
   "cell_type": "code",
   "execution_count": null,
   "metadata": {},
   "outputs": [],
   "source": [
    "final_labels = sample_data_latest[['File ID','File Name','Case_ID_Final','LABEL','final_label','Project ID']]\n",
    "final_labels = final_labels[final_labels['Project ID'] != 'CPTAC-3'].reset_index(drop = True)\n",
    "final_labels.to_csv(\"../../data/final_labels.csv\",index = False)\n",
    "final_labels.head()"
   ]
  },
  {
   "cell_type": "markdown",
   "metadata": {},
   "source": [
    "Filtering CNV_master_df\n",
    "Using a reference for encoding copy number values, I referenced this paper to encode the copy number of a gene\n",
    "from gtfparse import read_gtf"
   ]
  },
  {
   "cell_type": "code",
   "execution_count": null,
   "metadata": {},
   "outputs": [],
   "source": [
    "\n",
    "gtf = read_gtf(\"../../data/Homo_sapiens.GRCh38.108.chr.gtf\")\n",
    "gtf = gtf[gtf['transcript_biotype']=='protein_coding'].reset_index(drop = True)\n",
    "gtf[['gene_name','transcript_id','transcript_version']]\n",
    "\n",
    "#Subsetting all protein coding genes\n",
    "protein_coding = set(gtf['gene_name'])\n",
    "a = master_cnv_df.iloc[:,1:].columns\n",
    "protein_coding_selected = list(a.intersection(protein_coding))\n",
    "protein_coding_selected.insert(0,'file_name')\n",
    "\n",
    "#protein_coding_selected"
   ]
  },
  {
   "cell_type": "code",
   "execution_count": null,
   "metadata": {},
   "outputs": [],
   "source": [
    "#Subsetting only those file ids that are required\n",
    "master_cnv_df_sub = master_cnv_df[master_cnv_df['file_name'].isin(final_labels['File ID'])].reset_index(drop = True)\n",
    "\n",
    "#getting all protein coding genes only\n",
    "master_cnv_df_sub = master_cnv_df_sub[protein_coding_selected]\n",
    "\n",
    "#Removing all Nans\n",
    "master_cnv_df_sub.dropna(axis=1, how='all',inplace = True)\n",
    "\n",
    "#Adding Zero Value for al NA\n",
    "master_cnv_df_sub.fillna(0, inplace = True)\n",
    "\n",
    "#Decribing the remaining\n",
    "master_cnv_df_sub.head()"
   ]
  },
  {
   "cell_type": "code",
   "execution_count": null,
   "metadata": {},
   "outputs": [],
   "source": [
    "master_cnv_df_sub.to_csv(\"../../data/master_cnv_df.csv\",index = False)\n"
   ]
  },
  {
   "cell_type": "markdown",
   "metadata": {},
   "source": [
    "Subsetting protein coding genes for Gene Expression dataset\n"
   ]
  },
  {
   "cell_type": "code",
   "execution_count": null,
   "metadata": {},
   "outputs": [],
   "source": [
    "master_gene_df.head()"
   ]
  },
  {
   "cell_type": "code",
   "execution_count": null,
   "metadata": {},
   "outputs": [],
   "source": [
    "all_genes = set(master_gene_df.iloc[:,1:].columns)\n",
    "selected_genes = list(all_genes.intersection(protein_coding))\n",
    "selected_genes.insert(0,'file_name')\n",
    "len(selected_genes)"
   ]
  },
  {
   "cell_type": "code",
   "execution_count": null,
   "metadata": {},
   "outputs": [],
   "source": [
    "master_gene_df_sub = master_gene_df[master_gene_df['file_name'].isin(final_labels['File ID'])].reset_index(drop = True)\n",
    "\n",
    "#Selecting ony selected genes\n",
    "master_gene_df_sub = master_gene_df_sub[selected_genes]\n",
    "\n",
    "#Removing genes with all zero values\n",
    "master_gene_df_sub.dropna(axis=1, how='all',inplace = True)\n",
    "\n",
    "master_gene_df_sub\n",
    "\n",
    "master_gene_df_sub.to_csv(\"../../data/master_gene_df.csv\",index=False)\n",
    "master_gene_df"
   ]
  },
  {
   "cell_type": "code",
   "execution_count": null,
   "metadata": {},
   "outputs": [],
   "source": [
    "final_labels.groupby('LABEL').agg({'Case_ID_Final':'nunique'})"
   ]
  }
 ],
 "metadata": {
  "language_info": {
   "name": "python"
  },
  "orig_nbformat": 4
 },
 "nbformat": 4,
 "nbformat_minor": 2
}
